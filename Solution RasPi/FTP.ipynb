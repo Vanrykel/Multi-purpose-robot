{
 "cells": [
  {
   "cell_type": "code",
   "execution_count": 1,
   "metadata": {},
   "outputs": [],
   "source": [
    "from ftplib import FTP\n",
    "import os"
   ]
  },
  {
   "cell_type": "code",
   "execution_count": 5,
   "metadata": {},
   "outputs": [
    {
     "data": {
      "text/plain": [
       "'221-Goodbye. You uploaded 20191 and downloaded 0 kbytes.\\n221 Logout.'"
      ]
     },
     "execution_count": 5,
     "metadata": {},
     "output_type": "execute_result"
    }
   ],
   "source": [
    "#session = FTP('ftp://<CX1000 192.168.1.85>',)\n",
    "session = FTP('user','password')\n",
    "file = open('jason.txt','rb')                  # file to send\n",
    "session.storbinary('STOR jason.json', file)     # send the file\n",
    "file.close()                                    # close file and FTP\n",
    "file = open('outlineGcode.gcode','rb')                  # file to send\n",
    "session.storbinary('STOR outlineGcode.gcode', file)     # send the file\n",
    "file.close()                                    # close file and FTP\n",
    "session.quit()\n"
   ]
  }
 ],
 "metadata": {
  "kernelspec": {
   "display_name": "Python 3",
   "language": "python",
   "name": "python3"
  },
  "language_info": {
   "codemirror_mode": {
    "name": "ipython",
    "version": 3
   },
   "file_extension": ".py",
   "mimetype": "text/x-python",
   "name": "python",
   "nbconvert_exporter": "python",
   "pygments_lexer": "ipython3",
   "version": "3.6.6"
  }
 },
 "nbformat": 4,
 "nbformat_minor": 2
}
