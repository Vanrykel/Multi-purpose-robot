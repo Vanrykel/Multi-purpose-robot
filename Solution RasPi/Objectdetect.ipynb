{
 "cells": [
  {
   "cell_type": "code",
   "execution_count": 1,
   "metadata": {},
   "outputs": [],
   "source": [
    "# import the necessary packages\n",
    "from __future__ import print_function\n",
    "from imutils import perspective\n",
    "from imutils import contours\n",
    "import numpy as np\n",
    "import imutils\n",
    "import cv2\n",
    "import json\n",
    "import math"
   ]
  },
  {
   "cell_type": "code",
   "execution_count": 2,
   "metadata": {},
   "outputs": [],
   "source": [
    "def order_points_old(pts):\n",
    "    # initialize a list of coordinates that will be ordered\n",
    "    # such that the first entry in the list is the top-left,\n",
    "    # the second entry is the top-right, the third is the\n",
    "    # bottom-right, and the fourth is the bottom-left\n",
    "    rect = np.zeros((4, 2), dtype=\"float32\")\n",
    "\n",
    "    # the top-left point will have the smallest sum, whereas\n",
    "    # the bottom-right point will have the largest sum\n",
    "    s = pts.sum(axis=1)\n",
    "    rect[0] = pts[np.argmin(s)]\n",
    "    rect[2] = pts[np.argmax(s)]\n",
    "\n",
    "    # now, compute the difference between the points, the\n",
    "    # top-right point will have the smallest difference,\n",
    "    # whereas the bottom-left will have the largest difference\n",
    "    diff = np.diff(pts, axis=1)\n",
    "    rect[1] = pts[np.argmin(diff)]\n",
    "    rect[3] = pts[np.argmax(diff)]\n",
    "\n",
    "    # return the ordered coordinates\n",
    "    return rect\n",
    "\n",
    "\n"
   ]
  },
  {
   "cell_type": "code",
   "execution_count": 3,
   "metadata": {},
   "outputs": [],
   "source": [
    "# load our input image, convert it to grayscale, and blur it slightly\n",
    "image = cv2.imread(\"scanfoto.jpg\")\n",
    "#image = frameRGB\n",
    "gray = cv2.cvtColor(image, cv2.COLOR_BGR2GRAY)\n",
    "gray = cv2.GaussianBlur(gray, (7, 7), 0)"
   ]
  },
  {
   "cell_type": "code",
   "execution_count": 4,
   "metadata": {},
   "outputs": [],
   "source": [
    "\n",
    "# perform edge detection, then perform a dilation + erosion to\n",
    "# close gaps in between object edges\n",
    "edged = cv2.Canny(gray, 50, 100)\n",
    "edged = cv2.dilate(edged, None, iterations=1)\n",
    "edged = cv2.erode(edged, None, iterations=1)\n",
    "\n",
    "# find contours in the edge map\n",
    "cnts = cv2.findContours(edged.copy(), cv2.RETR_EXTERNAL,\n",
    "\tcv2.CHAIN_APPROX_SIMPLE)\n",
    "cnts = imutils.grab_contours(cnts)\n",
    "\n",
    "# sort the contours from left-to-right and initialize the bounding box\n",
    "# point colors\n",
    "(cnts, _) = contours.sort_contours(cnts)\n",
    "colors = ((0, 0, 255), (240, 0, 159), (255, 0, 0), (255, 255, 0))"
   ]
  },
  {
   "cell_type": "code",
   "execution_count": 5,
   "metadata": {},
   "outputs": [],
   "source": [
    "#to get nparray in JSONfile\n",
    "class NumpyEncoder(json.JSONEncoder):\n",
    "    def default(self, obj):\n",
    "        if isinstance(obj, np.ndarray):\n",
    "            return obj.tolist()\n",
    "        return json.JSONEncoder.default(self, obj)"
   ]
  },
  {
   "cell_type": "code",
   "execution_count": 6,
   "metadata": {},
   "outputs": [],
   "source": [
    "#clear json file\n",
    "open('jason.txt', 'w').close()"
   ]
  },
  {
   "cell_type": "code",
   "execution_count": 7,
   "metadata": {
    "scrolled": false
   },
   "outputs": [
    {
     "name": "stdout",
     "output_type": "stream",
     "text": [
      "{\"objectNumber\": \"1\", \"arrayCorners\": [[85, 458], [48, 130], [259, 106], [296, 435]]}\n",
      "Object #1:\n",
      "[[ 85 458]\n",
      " [ 48 130]\n",
      " [259 106]\n",
      " [296 435]]\n",
      "{\"objectNumber\": \"2\", \"arrayCorners\": [[442, 385], [285, 113], [459, 13], [616, 285]]}\n",
      "Object #2:\n",
      "[[442 385]\n",
      " [285 113]\n",
      " [459  13]\n",
      " [616 285]]\n"
     ]
    }
   ],
   "source": [
    "# loop over the contours individually\n",
    "for (i, c) in enumerate(cnts):\n",
    "\t# if the contour is not sufficiently large, ignore it\n",
    "\tif cv2.contourArea(c) < 100:\n",
    "\t\tcontinue\n",
    "\n",
    "\t# compute the rotated bounding box of the contour, then\n",
    "\t# draw the contours\n",
    "\tbox1 = cv2.minAreaRect(c)\n",
    "\tbox1 = cv2.cv.BoxPoints(box) if imutils.is_cv2() else cv2.boxPoints(box1)\n",
    "\tbox1 = np.array(box1, dtype=\"int\")\n",
    "\tcv2.drawContours(image, [box1], -1, (0, 255, 0), 2)\n",
    "\n",
    "\t# show the original coordinates\n",
    "\tjson_dump = json.dumps({\"objectNumber\":\"{}\".format(i + 1),'arrayCorners':box1,}, cls=NumpyEncoder)\n",
    "\tprint(json_dump)\n",
    "\n",
    "\tprint(\"Object #{}:\".format(i + 1))\n",
    "\tprint(box1)\n",
    "    \n",
    "    \n",
    "\t# order the points in the contour such that they appear\n",
    "\t# in top-left, top-right, bottom-right, and bottom-left\n",
    "\t# order, then draw the outline of the rotated bounding\n",
    "\t# box\n",
    "\trect = order_points_old(box1)\n",
    "    #rect = perspective.order_points(box)\n",
    "\n",
    "\t# check to see if the new method should be used for\n",
    "\t# ordering the coordinates\n",
    "#\tif args[\"new\"] > 0:\n",
    "#rect = perspective.order_points(box)\n",
    "\n",
    "\t# show the re-ordered coordinates\n",
    "\t#print(rect.astype(\"int\"))"
   ]
  },
  {
   "cell_type": "code",
   "execution_count": 8,
   "metadata": {
    "scrolled": true
   },
   "outputs": [
    {
     "name": "stdout",
     "output_type": "stream",
     "text": [
      "{\"objectNumber\": \"1\", \"arrayCorners\": [[85, 458], [48, 130], [259, 106], [296, 435]], \"angle\": 83.56396394818456, \"centrepoint\": [172.0, 282.0]}\n",
      "{\"objectNumber\": \"2\", \"arrayCorners\": [[442, 385], [285, 113], [459, 13], [616, 285]], \"angle\": 60.00620495518727, \"centrepoint\": [450.5, 199.0]}\n"
     ]
    }
   ],
   "source": [
    "# loop over the contours individually\n",
    "for (i, c) in enumerate(cnts):\n",
    "\t# if the contour is not sufficiently large, ignore it\n",
    "\tif cv2.contourArea(c) < 100:\n",
    "\t\tcontinue\n",
    "\n",
    "\t# compute the rotated bounding box of the contour, then\n",
    "\t# draw the contours\n",
    "\tbox = cv2.minAreaRect(c)\n",
    "\tbox = cv2.cv.BoxPoints(box) if imutils.is_cv2() else cv2.boxPoints(box)\n",
    "\tbox = np.array(box, dtype=\"int\")\n",
    "\tcv2.drawContours(image, [box], -1, (0, 255, 0), 2)\n",
    "\t\n",
    "\t#bepalen middelpunt\n",
    "\tx1=box[0][0]\n",
    "\tx2=box[2][0]\n",
    "\ty1=box[0][1]\n",
    "\ty2=box[2][1]\n",
    "\tmidpunt=( (x1 +x2)/2 ,(y1 + y2)/2 )  \n",
    "\t#make line from coordinates  \n",
    "\tmyradians = math.atan2((box[0][1])-(box[1][1]), (box[0][0])-(box[1][0]))\n",
    "\tmydegrees = math.degrees(myradians)\n",
    "\t#if (angle < 0) { angle += 2 * M_PI; }\n",
    "\n",
    "\t# order the points in the contour such that they appear\n",
    "\t# in top-left, top-right, bottom-right, and bottom-left\n",
    "\t# order, then draw the outline of the rotated bounding\n",
    "\t# box\n",
    "\trect =order_points_old(box)   \n",
    "\tjson_dump = json.dumps({\"objectNumber\":\"{}\".format(i + 1),'arrayCorners':box,'angle':mydegrees,'centrepoint':midpunt,}, cls=NumpyEncoder)\n",
    "\tprint(json_dump, file=open(\"jason.txt\", \"a\"))\n",
    "\t#f= open(\"jason.txt\",\"w+\")\n",
    "\t#for j in range(i):\n",
    "\t#f.write(json_dump)\n",
    "\t#f.write(\"\\n\")                \n",
    "\t#f.close()\n",
    "\tprint(json_dump)"
   ]
  },
  {
   "cell_type": "code",
   "execution_count": null,
   "metadata": {},
   "outputs": [],
   "source": [
    "\t# loop over the original points and draw them\n",
    "\tfor ((x, y), color) in zip(rect, colors):\n",
    "\t\tcv2.circle(image, (int(x), int(y)), 5, color, -1)\n",
    "\n",
    "\t# draw the object num at the top-left corner\n",
    "\tcv2.putText(image, \"Object #{}\".format(i + 1),\n",
    "\t\t(int(rect[0][0] - 15), int(rect[0][1] - 15)),\n",
    "\t\tcv2.FONT_HERSHEY_SIMPLEX, 0.55, (255, 255, 255), 2)\n",
    "    \n",
    "\t #show the image(uncomment to see the image)\n",
    "\tcv2.imshow(\"Image\", image)\n",
    "\tcv2.waitKey(0)"
   ]
  },
  {
   "cell_type": "code",
   "execution_count": null,
   "metadata": {},
   "outputs": [],
   "source": [
    "#image = cv2.imread('download.jpg')\n",
    "#y=0\n",
    "#x=0\n",
    "#h=100\n",
    "#w=200\n",
    "#crop = image[y:y+h, x:x+w]\n",
    "#cv2.imshow('Image', crop)\n",
    "#cv2.waitKey(0) "
   ]
  },
  {
   "cell_type": "code",
   "execution_count": null,
   "metadata": {},
   "outputs": [],
   "source": []
  }
 ],
 "metadata": {
  "kernelspec": {
   "display_name": "Python 3",
   "language": "python",
   "name": "python3"
  },
  "language_info": {
   "codemirror_mode": {
    "name": "ipython",
    "version": 3
   },
   "file_extension": ".py",
   "mimetype": "text/x-python",
   "name": "python",
   "nbconvert_exporter": "python",
   "pygments_lexer": "ipython3",
   "version": "3.6.6"
  }
 },
 "nbformat": 4,
 "nbformat_minor": 2
}
